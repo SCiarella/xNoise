{
 "cells": [
  {
   "cell_type": "markdown",
   "id": "56b217f5",
   "metadata": {},
   "source": [
    "# Download and Explore ImageNet Dataset\n",
    "\n",
    "This notebook demonstrates how to download the ImageNet dataset and visualize sample images.\n",
    "\n",
    "**Note:** ImageNet requires registration and acceptance of terms of use. You'll need to obtain credentials from https://image-net.org/"
   ]
  },
  {
   "cell_type": "markdown",
   "id": "9c38b14b",
   "metadata": {},
   "source": [
    "## Install Required Libraries"
   ]
  },
  {
   "cell_type": "code",
   "execution_count": null,
   "id": "c0bacab7",
   "metadata": {},
   "outputs": [],
   "source": [
    "!pip install torch torchvision matplotlib pillow requests"
   ]
  },
  {
   "cell_type": "markdown",
   "id": "6d3fdf9d",
   "metadata": {},
   "source": [
    "## Import Libraries"
   ]
  },
  {
   "cell_type": "code",
   "execution_count": null,
   "id": "051738ee",
   "metadata": {},
   "outputs": [],
   "source": [
    "import torchvision.datasets as datasets\n",
    "import torchvision.transforms as transforms\n",
    "import matplotlib.pyplot as plt\n",
    "import numpy as np\n",
    "from pathlib import Path\n",
    "import random"
   ]
  },
  {
   "cell_type": "markdown",
   "id": "3e3f30bf",
   "metadata": {},
   "source": [
    "## Download ImageNet Dataset\n",
    "\n",
    "ImageNet dataset requires manual download due to licensing. Here are the steps:\n",
    "\n",
    "1. Register at https://image-net.org/\n",
    "2. Download the ILSVRC2012 dataset\n",
    "3. Extract to a local directory\n",
    "\n",
    "Alternatively, we can use torchvision's ImageNet loader if you have the dataset downloaded."
   ]
  },
  {
   "cell_type": "code",
   "execution_count": null,
   "id": "2213c7d9",
   "metadata": {},
   "outputs": [],
   "source": [
    "# Set the path where ImageNet dataset will be stored\n",
    "# If you already have ImageNet downloaded, set this to your dataset path\n",
    "imagenet_path = Path('../data/imagenet')\n",
    "imagenet_path.mkdir(parents=True, exist_ok=True)\n",
    "\n",
    "print(f\"ImageNet data directory: {imagenet_path}\")\n",
    "print(\"\\nNote: You need to manually download ImageNet from https://image-net.org/\")\n",
    "print(\"The dataset should be organized with train/ and val/ subdirectories.\")"
   ]
  },
  {
   "cell_type": "markdown",
   "id": "93fd3c1c",
   "metadata": {},
   "source": [
    "## Alternative: Use a Subset or Sample Dataset\n",
    "\n",
    "For demonstration purposes, we can use ImageNet samples available through torchvision or use the Tiny ImageNet that's already in your workspace."
   ]
  },
  {
   "cell_type": "code",
   "execution_count": null,
   "id": "bae2de83",
   "metadata": {},
   "outputs": [],
   "source": [
    "# Using Tiny ImageNet which is already available in the workspace\n",
    "tiny_imagenet_path = Path('../data/tiny-imagenet-200')\n",
    "\n",
    "if tiny_imagenet_path.exists():\n",
    "    print(f\"Found Tiny ImageNet at: {tiny_imagenet_path}\")\n",
    "    data_path = tiny_imagenet_path / 'train'\n",
    "else:\n",
    "    print(\"Tiny ImageNet not found. Please download the full ImageNet dataset.\")\n",
    "    data_path = imagenet_path / 'train'"
   ]
  },
  {
   "cell_type": "markdown",
   "id": "0e6c40e9",
   "metadata": {},
   "source": [
    "## Load Dataset"
   ]
  },
  {
   "cell_type": "code",
   "execution_count": null,
   "id": "983bc693",
   "metadata": {},
   "outputs": [],
   "source": [
    "# Define transforms\n",
    "transform = transforms.Compose([\n",
    "    transforms.Resize(256),\n",
    "    transforms.CenterCrop(224),\n",
    "    transforms.ToTensor(),\n",
    "])\n",
    "\n",
    "# Load dataset using ImageFolder (works for both ImageNet and Tiny ImageNet)\n",
    "try:\n",
    "    dataset = datasets.ImageFolder(root=str(data_path), transform=transform)\n",
    "    print(f\"Dataset loaded successfully!\")\n",
    "    print(f\"Number of classes: {len(dataset.classes)}\")\n",
    "    print(f\"Number of images: {len(dataset)}\")\n",
    "except Exception as e:\n",
    "    print(f\"Error loading dataset: {e}\")\n",
    "    print(\"Please ensure the dataset is properly downloaded and extracted.\")"
   ]
  },
  {
   "cell_type": "markdown",
   "id": "f2aff313",
   "metadata": {},
   "source": [
    "## Display Sample Images"
   ]
  },
  {
   "cell_type": "code",
   "execution_count": null,
   "id": "b41eb651",
   "metadata": {},
   "outputs": [],
   "source": [
    "def imshow(img, title=None):\n",
    "    \"\"\"Display a tensor as an image.\"\"\"\n",
    "    img = img.numpy().transpose((1, 2, 0))\n",
    "    # Denormalize if needed\n",
    "    img = np.clip(img, 0, 1)\n",
    "    plt.imshow(img)\n",
    "    if title:\n",
    "        plt.title(title)\n",
    "    plt.axis('off')\n",
    "\n",
    "# Get random sample images\n",
    "num_samples = 6\n",
    "indices = random.sample(range(len(dataset)), num_samples)\n",
    "\n",
    "# Create a grid of images\n",
    "fig, axes = plt.subplots(2, 3, figsize=(15, 10))\n",
    "axes = axes.flatten()\n",
    "\n",
    "for idx, img_idx in enumerate(indices):\n",
    "    img, label = dataset[img_idx]\n",
    "    class_name = dataset.classes[label]\n",
    "    \n",
    "    plt.sca(axes[idx])\n",
    "    imshow(img, title=f\"Class: {class_name}\")\n",
    "\n",
    "plt.tight_layout()\n",
    "plt.savefig('../images/imagenet_samples.png', dpi=150, bbox_inches='tight')\n",
    "plt.show()\n",
    "\n",
    "print(f\"Displayed {num_samples} random images from the dataset\")"
   ]
  },
  {
   "cell_type": "markdown",
   "id": "2797cef5",
   "metadata": {},
   "source": [
    "## Display Images from Specific Classes"
   ]
  },
  {
   "cell_type": "code",
   "execution_count": null,
   "id": "500bada9",
   "metadata": {},
   "outputs": [],
   "source": [
    "# Show a few images from the first class\n",
    "first_class_idx = 0\n",
    "class_name = dataset.classes[first_class_idx]\n",
    "\n",
    "# Find all images from this class\n",
    "class_indices = [i for i, (_, label) in enumerate(dataset.imgs) if label == first_class_idx]\n",
    "\n",
    "# Display up to 4 images from this class\n",
    "num_display = min(4, len(class_indices))\n",
    "fig, axes = plt.subplots(1, num_display, figsize=(15, 4))\n",
    "\n",
    "if num_display == 1:\n",
    "    axes = [axes]\n",
    "\n",
    "for idx in range(num_display):\n",
    "    img, _ = dataset[class_indices[idx]]\n",
    "    plt.sca(axes[idx])\n",
    "    imshow(img, title=f\"{class_name}\")\n",
    "\n",
    "plt.tight_layout()\n",
    "plt.show()\n",
    "\n",
    "print(f\"Displayed {num_display} images from class: {class_name}\")"
   ]
  },
  {
   "cell_type": "markdown",
   "id": "80235bcc",
   "metadata": {},
   "source": [
    "## Dataset Statistics"
   ]
  },
  {
   "cell_type": "code",
   "execution_count": null,
   "id": "225c5f3c",
   "metadata": {},
   "outputs": [],
   "source": [
    "# Calculate images per class\n",
    "from collections import Counter\n",
    "\n",
    "labels = [label for _, label in dataset.imgs]\n",
    "label_counts = Counter(labels)\n",
    "\n",
    "print(f\"Dataset Statistics:\")\n",
    "print(f\"Total classes: {len(dataset.classes)}\")\n",
    "print(f\"Total images: {len(dataset)}\")\n",
    "print(f\"Average images per class: {len(dataset) / len(dataset.classes):.1f}\")\n",
    "print(f\"\\nFirst 5 classes:\")\n",
    "for i, class_name in enumerate(dataset.classes[:5]):\n",
    "    print(f\"  {i}: {class_name} - {label_counts[i]} images\")"
   ]
  }
 ],
 "metadata": {
  "language_info": {
   "name": "python"
  }
 },
 "nbformat": 4,
 "nbformat_minor": 5
}
