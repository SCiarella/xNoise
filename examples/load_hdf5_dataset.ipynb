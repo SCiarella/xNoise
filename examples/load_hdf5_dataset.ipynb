{
 "cells": [
  {
   "cell_type": "markdown",
   "id": "d7cbbec8",
   "metadata": {},
   "source": [
    "# Load and Visualize HDF5 Dataset\n",
    "\n",
    "This notebook shows how to load images from the HDF5 file created by `images_to_hdf5.py`"
   ]
  },
  {
   "cell_type": "code",
   "execution_count": null,
   "id": "4801afd0",
   "metadata": {},
   "outputs": [],
   "source": [
    "import h5py\n",
    "import numpy as np\n",
    "import matplotlib.pyplot as plt"
   ]
  },
  {
   "cell_type": "markdown",
   "id": "789ee1df",
   "metadata": {},
   "source": [
    "## Load the HDF5 file"
   ]
  },
  {
   "cell_type": "code",
   "execution_count": null,
   "id": "9ee8f2dd",
   "metadata": {},
   "outputs": [],
   "source": [
    "# Open the HDF5 file\n",
    "h5_file = h5py.File('/projects/prjs1711/XAI4SFM/train_images.h5', 'r')\n",
    "\n",
    "# Display basic info\n",
    "print(f\"Dataset split: {h5_file.attrs['split']}\")\n",
    "print(f\"Number of classes: {h5_file.attrs['num_classes']}\")\n",
    "print(f\"Number of images: {h5_file['images'].shape[0]}\")\n",
    "print(f\"Image shape: {h5_file['images'].shape[1:]}\")"
   ]
  },
  {
   "cell_type": "markdown",
   "id": "5ebdd978",
   "metadata": {},
   "source": [
    "## Visualize random images"
   ]
  },
  {
   "cell_type": "code",
   "execution_count": null,
   "id": "b501a807",
   "metadata": {},
   "outputs": [],
   "source": [
    "# Get class names\n",
    "class_names = [name.decode('utf-8') for name in h5_file['class_names'][:]]\n",
    "\n",
    "# Show 12 random images\n",
    "fig, axes = plt.subplots(3, 4, figsize=(12, 9))\n",
    "axes = axes.flatten()\n",
    "\n",
    "n_images = h5_file['images'].shape[0]\n",
    "random_indices = np.random.choice(n_images, size=12, replace=False)\n",
    "\n",
    "for i, idx in enumerate(random_indices):\n",
    "    img = h5_file['images'][idx]\n",
    "    label = h5_file['labels'][idx]\n",
    "    class_name = class_names[label]\n",
    "    \n",
    "    axes[i].imshow(img)\n",
    "    axes[i].set_title(f'{class_name}', fontsize=10)\n",
    "    axes[i].axis('off')\n",
    "\n",
    "plt.tight_layout()\n",
    "plt.show()"
   ]
  },
  {
   "cell_type": "markdown",
   "id": "8198a909",
   "metadata": {},
   "source": [
    "## Access individual images"
   ]
  },
  {
   "cell_type": "code",
   "execution_count": null,
   "id": "d3cdb281",
   "metadata": {},
   "outputs": [],
   "source": [
    "# Access a specific image by index\n",
    "idx = 0\n",
    "image = h5_file['images'][idx]\n",
    "label = h5_file['labels'][idx]\n",
    "\n",
    "plt.figure(figsize=(6, 6))\n",
    "plt.imshow(image)\n",
    "plt.title(f'Class: {class_names[label]} (label={label})', fontsize=14)\n",
    "plt.axis('off')\n",
    "plt.show()\n",
    "\n",
    "print(f\"Image shape: {image.shape}\")\n",
    "print(f\"Image dtype: {image.dtype}\")\n",
    "print(f\"Value range: [{image.min()}, {image.max()}]\")"
   ]
  },
  {
   "cell_type": "markdown",
   "id": "afc21690",
   "metadata": {},
   "source": [
    "## Get batch of images"
   ]
  },
  {
   "cell_type": "code",
   "execution_count": null,
   "id": "449d9b9b",
   "metadata": {},
   "outputs": [],
   "source": [
    "# Load a batch of images (e.g., first 32)\n",
    "batch_images = h5_file['images'][:32]\n",
    "batch_labels = h5_file['labels'][:32]\n",
    "\n",
    "print(f\"Batch shape: {batch_images.shape}\")\n",
    "print(f\"Labels: {batch_labels}\")"
   ]
  },
  {
   "cell_type": "markdown",
   "id": "ef4594eb",
   "metadata": {},
   "source": [
    "## Close the file"
   ]
  },
  {
   "cell_type": "code",
   "execution_count": null,
   "id": "856c234d",
   "metadata": {},
   "outputs": [],
   "source": [
    "h5_file.close()\n",
    "print(\"HDF5 file closed\")"
   ]
  }
 ],
 "metadata": {
  "language_info": {
   "name": "python"
  }
 },
 "nbformat": 4,
 "nbformat_minor": 5
}
